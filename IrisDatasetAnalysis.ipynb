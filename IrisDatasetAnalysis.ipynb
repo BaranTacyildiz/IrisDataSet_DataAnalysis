{
  "nbformat": 4,
  "nbformat_minor": 0,
  "metadata": {
    "colab": {
      "provenance": [],
      "authorship_tag": "ABX9TyPYUSghDs3xNFTJ8LaMLfsr",
      "include_colab_link": true
    },
    "kernelspec": {
      "name": "python3",
      "display_name": "Python 3"
    },
    "language_info": {
      "name": "python"
    }
  },
  "cells": [
    {
      "cell_type": "markdown",
      "metadata": {
        "id": "view-in-github",
        "colab_type": "text"
      },
      "source": [
        "<a href=\"https://colab.research.google.com/github/BaranTacyildiz/IrisDataSet_DataAnalysis/blob/main/IrisDatasetAnalysis.ipynb\" target=\"_parent\"><img src=\"https://colab.research.google.com/assets/colab-badge.svg\" alt=\"Open In Colab\"/></a>"
      ]
    },
    {
      "cell_type": "code",
      "execution_count": 4,
      "metadata": {
        "id": "tkJkieBuUpJD"
      },
      "outputs": [],
      "source": [
        "\"\"\"\n",
        "0.0.2\n",
        "\n",
        "Firstly this project's predict algorithm is a very simple. I coded to learn basics.\n",
        "\n",
        "I calculated there are how many iris flower's sepal which lower and higher than sepal index of irises. I created the index to comprasion.\n",
        "\n",
        "\"\"\"\n",
        "\n",
        "import numpy as np\n",
        "import pandas as pd\n",
        "from sklearn.datasets import load_iris\n",
        "\n",
        "iris = load_iris()\n",
        "\n",
        "iris_df = pd.DataFrame(data=iris['data'], columns=iris['feature_names'])  # I prepared the data set by python libraries."
      ]
    },
    {
      "cell_type": "code",
      "source": [
        "average_all_columns = iris_df.mean()   # I calculated the average of all the columns\n",
        "print(\"Average of All Columns: \")\n",
        "average_all_columns = round(average_all_columns,3)\n",
        "print(average_all_columns)"
      ],
      "metadata": {
        "colab": {
          "base_uri": "https://localhost:8080/"
        },
        "id": "xxoIggxnAJQm",
        "outputId": "639652c7-24e8-4c1a-a7de-7fd1be4efc6e"
      },
      "execution_count": 5,
      "outputs": [
        {
          "output_type": "stream",
          "name": "stdout",
          "text": [
            "Average of All Columns: \n",
            "sepal length (cm)    5.843\n",
            "sepal width (cm)     3.057\n",
            "petal length (cm)    3.758\n",
            "petal width (cm)     1.199\n",
            "dtype: float64\n"
          ]
        }
      ]
    },
    {
      "cell_type": "code",
      "source": [
        "sepal_index = 2\n",
        "\"\"\"\n",
        "Index is 2 because index = (average_all_columns[0]/average_all_columns[0]) + (average_all_columns[0]/average_all_columns[0])\n",
        "\n",
        "I mean we will sum each row by dividing it by the average of that row.\n",
        "\"\"\""
      ],
      "metadata": {
        "colab": {
          "base_uri": "https://localhost:8080/",
          "height": 35
        },
        "id": "BGxci7z8AKou",
        "outputId": "6a6714d9-ffaf-4d96-9154-fcd2929a91fe"
      },
      "execution_count": 6,
      "outputs": [
        {
          "output_type": "execute_result",
          "data": {
            "text/plain": [
              "'\\nIndex is 2 because index = (average_all_columns[0]/average_all_columns[0]) + (average_all_columns[0]/average_all_columns[0])\\n\\nI mean we will sum each row by dividing it by the average of that row.\\n'"
            ],
            "application/vnd.google.colaboratory.intrinsic+json": {
              "type": "string"
            }
          },
          "metadata": {},
          "execution_count": 6
        }
      ]
    },
    {
      "cell_type": "code",
      "source": [
        "small_sepal_irises = 0   # Created variables to keep count.\n",
        "big_sepal_irises = 0\n",
        "\n",
        "list_small = [] # Created lists for keep small and big irises. I am going to make it Pandas DataFrame.\n",
        "list_big = []\n",
        "\n",
        "for k in range(150):   # In this for loop I found how many sepals are bigger or smaller than index\n",
        "  x = (iris_df.iloc[k,0]/5.8)+(iris_df.iloc[k,1]/3.057)\n",
        "  if x < 2:\n",
        "    small_sepal_irises += 1\n",
        "    list_small.append(iris_df.iloc[k])\n",
        "  else:\n",
        "    big_sepal_irises +=1\n",
        "    list_big.append(iris_df.iloc[k])\n",
        "\n",
        "list_small_df = pd.DataFrame(list_small) # I made lists pandas DataFrame.\n",
        "list_big_df = pd.DataFrame(list_big)\n",
        "\n",
        "print(\"\\nThere is \" + str(small_sepal_irises) + \" smaller sepal than index\" )   # Lastly I printed screen the result.\n",
        "print(\"There is \" + str(big_sepal_irises) + \" bigger sepal than index\" )\n"
      ],
      "metadata": {
        "colab": {
          "base_uri": "https://localhost:8080/"
        },
        "id": "VVAN1wQjovuz",
        "outputId": "aa825a0e-e3dd-457b-974b-340cb3b79a3d"
      },
      "execution_count": 7,
      "outputs": [
        {
          "output_type": "stream",
          "name": "stdout",
          "text": [
            "\n",
            "There is 73 smaller sepal than index\n",
            "There is 77 bigger sepal than index\n"
          ]
        }
      ]
    },
    {
      "cell_type": "code",
      "source": [
        "import matplotlib.pyplot as plt\n",
        "\n",
        "plt.scatter(list_small_df['sepal length (cm)'], list_small_df['sepal width (cm)'], label='Small Sepals', color='blue') # Visualize small sepals.\n",
        "plt.scatter(list_big_df['sepal length (cm)'], list_big_df['sepal width (cm)'], label='Big Sepals', color='red') # Visualize big sepals.\n",
        "\n",
        "plt.title('Sepal Length vs Sepal Width') # Naming the scatter plot and labels.\n",
        "plt.xlabel('Sepal Length')\n",
        "plt.ylabel('Sepal Width')\n",
        "\n",
        "plt.show() # Showing scatter plot."
      ],
      "metadata": {
        "colab": {
          "base_uri": "https://localhost:8080/",
          "height": 472
        },
        "id": "vd71z5zUtwmb",
        "outputId": "e8f87ec8-95fe-49c8-c3a0-5bcf63cfecf9"
      },
      "execution_count": 8,
      "outputs": [
        {
          "output_type": "display_data",
          "data": {
            "text/plain": [
              "<Figure size 640x480 with 1 Axes>"
            ],
            "image/png": "[encoded data removed]"
          },
          "metadata": {}
        }
      ]
    }
  ]
}
{
  "nbformat": 4,
  "nbformat_minor": 0,
  "metadata": {
    "colab": {
      "provenance": [],
      "authorship_tag": "ABX9TyMIzktQoUdNQI5JmqVlBtzC",
      "include_colab_link": true
    },
    "kernelspec": {
      "name": "python3",
      "display_name": "Python 3"
    },
    "language_info": {
      "name": "python"
    }
  },
  "cells": [
    {
      "cell_type": "markdown",
      "metadata": {
        "id": "view-in-github",
        "colab_type": "text"
      },
      "source": [
        "<a href=\"https://colab.research.google.com/github/BaranTacyildiz/IrisDataSet_DataAnalysis/blob/main/IrisDatasetAnalysis.ipynb\" target=\"_parent\"><img src=\"https://colab.research.google.com/assets/colab-badge.svg\" alt=\"Open In Colab\"/></a>"
      ]
    },
    {
      "cell_type": "code",
      "execution_count": 67,
      "metadata": {
        "id": "tkJkieBuUpJD"
      },
      "outputs": [],
      "source": [
        "\"\"\"\n",
        "0.0.1\n",
        "\n",
        "Firstly this project's predict algorithm is a very simple. I coded to learn basics.\n",
        "\n",
        "I calculated there are how many iris flower's sepal which lower and higher than sepal index of irises. I created the index like this ( index = sepal_length*sepal_width ) .\n",
        "\n",
        "\"\"\"\n",
        "\n",
        "import numpy as np\n",
        "import pandas as pd\n",
        "from sklearn.datasets import load_iris\n",
        "\n",
        "iris = load_iris()\n",
        "\n",
        "iris_df = pd.DataFrame(data=iris['data'], columns=iris['feature_names'])  # I prepared the data set by python libraries."
      ]
    },
    {
      "cell_type": "code",
      "source": [
        "average_all_columns = iris_df.mean()   # I calculated the average of all the columns\n",
        "print(\"Average of All Columns: \")\n",
        "average_all_columns = round(average_all_columns,3)\n",
        "print(average_all_columns)"
      ],
      "metadata": {
        "colab": {
          "base_uri": "https://localhost:8080/"
        },
        "id": "xxoIggxnAJQm",
        "outputId": "5b2ddb1d-80cb-4bff-e2df-7dd7e8bfdc3a"
      },
      "execution_count": 64,
      "outputs": [
        {
          "output_type": "stream",
          "name": "stdout",
          "text": [
            "Average of All Columns: \n",
            "sepal length (cm)    5.843\n",
            "sepal width (cm)     3.057\n",
            "petal length (cm)    3.758\n",
            "petal width (cm)     1.199\n",
            "dtype: float64\n"
          ]
        }
      ]
    },
    {
      "cell_type": "code",
      "source": [
        "sepal_index = round(average_all_columns[0]* average_all_columns[1],3)   # Created the index of the sepals\n",
        "print(\"\\nSepal Index =\", sepal_index)"
      ],
      "metadata": {
        "colab": {
          "base_uri": "https://localhost:8080/"
        },
        "id": "BGxci7z8AKou",
        "outputId": "7c76f761-6042-4b0d-a387-8c658dd458e8"
      },
      "execution_count": 65,
      "outputs": [
        {
          "output_type": "stream",
          "name": "stdout",
          "text": [
            "\n",
            "Sepal Index = 17.862\n"
          ]
        }
      ]
    },
    {
      "cell_type": "code",
      "source": [
        "small_sepal_irises = 0   # Created variables to keep count.\n",
        "big_sepal_irises = 0\n",
        "\n",
        "for k in range(150):   # In this for loop I found how many sepals are bigger or smaller than index\n",
        "  x = iris_df.iloc[k,0]*iris_df.iloc[k,1]\n",
        "  if x < sepal_index:\n",
        "    small_sepal_irises += 1\n",
        "  else:\n",
        "    big_sepal_irises +=1\n",
        "\n",
        "print(\"\\nThere is \" + str(small_sepal_irises) + \" smaller sepal than index\" )   # Lastly I printed screen the result.\n",
        "print(\"There is \" + str(big_sepal_irises) + \" bigger sepal than index\" )"
      ],
      "metadata": {
        "colab": {
          "base_uri": "https://localhost:8080/"
        },
        "id": "Q03RaNEoAVs9",
        "outputId": "0ee34f37-4c16-45d8-bacf-625f30a4f127"
      },
      "execution_count": 66,
      "outputs": [
        {
          "output_type": "stream",
          "name": "stdout",
          "text": [
            "\n",
            "There is 81 smaller sepal than index\n",
            "There is 69 bigger sepal than index\n"
          ]
        }
      ]
    }
  ]
}